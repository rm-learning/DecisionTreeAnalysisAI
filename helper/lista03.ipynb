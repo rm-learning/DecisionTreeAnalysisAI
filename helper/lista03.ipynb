{
 "cells": [
  {
   "cell_type": "markdown",
   "metadata": {},
   "source": [
    "## 📍**Questão 1**\n",
    "\n",
    "Com base nestas informações, qual as saídas da árvore para os registros de teste, respectivamente?\n",
    "\n",
    "- a) Iris_Virgínica, íris_Setosa, Iris_Versicolor, Iris_Virgínica\n",
    "- b) Iris_Virgínica, íris_Setosa, Iris_Virgínica , Iris_Versicolor\n",
    "- c) Iris_Versicolor, íris_Setosa, Iris_Versicolor, Iris_Virgínica\n",
    "- d) Íris_Setosa, Iris_Virgínica, Iris_Virgínica , Iris_Versicolor\n",
    "- **_e) Iris_Versicolor, Íris_Setosa, Iris_Versicolor, Iris_Virgínica_**\n",
    "  \n",
    "**Resposta:** \n",
    "1° Regra: petallength <= 2.35\n",
    "\n",
    "Instância 2 = Íris-setosa\n",
    "\n",
    "2° Regra: petalwidth <= 1.75\n",
    "\n",
    "Instância 1\n",
    "\n",
    "3° Regra à esquerda -> petallength <= 4.95\n",
    "\n",
    "Instância 1 = Íris-versicolor\n",
    "\n",
    "3° Regra à direita -> petallength <= 4.85\n",
    "\n",
    "Intância 3 = Íris-versicolor\n",
    "\n",
    "3° Regra à direita (else) -> petallength > 4.85\n",
    "\n",
    "Instância 4 = Íris-virginica"
   ]
  },
  {
   "cell_type": "markdown",
   "metadata": {},
   "source": [
    "## **Questão 2**\n",
    "Considerando a árvore da questão anterior, e as seguintes afirmações:\n",
    "\n",
    "> I. Esta árvore possui 5 regras de classificação\n",
    "> II. Das regras geradas, há apenas uma com cobertura por classe de 100%\n",
    "> III. A menor cobertura por classe é de 6.8% e corresponde à classe Iris_Virgínica\n",
    "\n",
    "É correto o que se afirma em:\n",
    "\n",
    "**Resposta:**"
   ]
  },
  {
   "cell_type": "markdown",
   "metadata": {},
   "source": [
    "## 📍 **Questão 3**\n",
    "\n",
    "Quais os valores para as métricas abaixo para cada uma das classes A, B, C e D?\n",
    "\n",
    "|  | Precisão | Recall | F1Score | TVP | TFN | TFP | TVN |\n",
    "| -- | -- | -- | -- | -- | -- | -- | -- |\n",
    "| **A** |.|\n",
    "| **B** |.|\n",
    "| **C** |.|\n",
    "| **D** |.|"
   ]
  },
  {
   "cell_type": "markdown",
   "metadata": {},
   "source": [
    "## 📍 **Questão 4**\n",
    "\n",
    "![Risco de Credito - Árvore de Decisão](../helper/img/lista3questao4.png)\n",
    "\n",
    "> A implementação da árvore de decisão baseada no critério de entropia está disponível no repositório [DecisionTreeAnalysisAI](https://github.com/rm-learning/DecisionTreeAnalysisAI), especificamente na pasta `src`; arquivo `ai01_rc_DecisionTree.ipynb`."
   ]
  }
 ],
 "metadata": {
  "language_info": {
   "name": "python"
  },
  "orig_nbformat": 4
 },
 "nbformat": 4,
 "nbformat_minor": 2
}
