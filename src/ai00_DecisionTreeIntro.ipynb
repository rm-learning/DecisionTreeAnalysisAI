{
 "cells": [
  {
   "cell_type": "markdown",
   "metadata": {},
   "source": [
    "The following decision tree algorithm analysis the dataset: `'../datasets/restaurantev2.csv'`."
   ]
  },
  {
   "cell_type": "markdown",
   "metadata": {},
   "source": [
    "### 📚 **Importação de Bibliotecas**"
   ]
  },
  {
   "cell_type": "code",
   "execution_count": 29,
   "metadata": {},
   "outputs": [],
   "source": [
    "!pip -q install plotly --upgrade"
   ]
  },
  {
   "cell_type": "markdown",
   "metadata": {},
   "source": [
    "Este comando foi usado para atualizar o pacote `plotly` para a versão mais recente usando o gerenciador de pacotes `pip`. \n",
    "\n",
    "A opção **``-q``** significa “quiet” e suprime a saída do comando, então nenhuma mensagem será exibida enquanto o pacote estiver sendo instalado. A opção **``--upgrade``** indica ao `pip` para atualizar o pacote para a versão mais recente, caso ele já esteja instalado. Se o pacote não estiver instalado, a instalação será induzida. Sendo que `plotly` é uma biblioteca de visualização de dados interativa e de código aberto para Python."
   ]
  },
  {
   "cell_type": "code",
   "execution_count": 30,
   "metadata": {},
   "outputs": [],
   "source": [
    "!pip -q install yellowbrick"
   ]
  },
  {
   "cell_type": "markdown",
   "metadata": {},
   "source": [
    "Agora foi instalado o pacote `yellowbrick` usando o gerenciador de pacotes `pip`. Tal como anteriormente, a opção **``-q``** suprime a saída do comando. `yellowbrick` é um conjunto de ferramentas de análise visual e diagnóstico projetado para facilitar o aprendizado de máquina com scikit-learn. A biblioteca implementa um novo objeto de API central, o Visualizer, que é um estimador scikit-learn - um objeto que aprende com os dados."
   ]
  },
  {
   "cell_type": "code",
   "execution_count": 31,
   "metadata": {},
   "outputs": [],
   "source": [
    "!pip -q install pandas"
   ]
  },
  {
   "cell_type": "markdown",
   "metadata": {},
   "source": [
    "Desta vez foi instalado o pacote pandas usando o gerenciador de pacotes pip. O `pandas` é uma biblioteca de análise de dados que fornece estruturas de dados flexíveis e permite a manipulação de dados relacionais ou rotulados de forma fácil e intuitiva. "
   ]
  },
  {
   "cell_type": "code",
   "execution_count": 32,
   "metadata": {},
   "outputs": [],
   "source": [
    "!pip -q install seaborn"
   ]
  },
  {
   "cell_type": "markdown",
   "metadata": {},
   "source": [
    "Por fim, foi instalado o pacote seaborn usando o gerenciador de pacotes pip. O `seaborn` é uma biblioteca de visualização de dados baseada em `matplotlib`. Ela fornece uma interface de alto nível para desenhar gráficos estatísticos atraentes e informativos. "
   ]
  },
  {
   "cell_type": "code",
   "execution_count": 33,
   "metadata": {},
   "outputs": [],
   "source": [
    "import pandas as pd\n",
    "import numpy as np\n",
    "import seaborn as sns\n",
    "import matplotlib.pyplot as plt\n",
    "import plotly.express as px"
   ]
  },
  {
   "cell_type": "markdown",
   "metadata": {},
   "source": [
    "Esta sequência de código importa cinco bibliotecas Python: `pandas`, `numpy`, `seaborn`, `matplotlib.pyplot` e `plotly.express`, que são comumente usadas juntas para análise e visualização de dados em Python.\n",
    "\n",
    "- `numpy` é uma biblioteca para computação científica em Python que fornece um objeto de matriz multidimensional e várias funções para trabalhar com essas matrizes.\n",
    "- `matplotlib.pyplot` é um módulo da biblioteca `matplotlib` que fornece uma interface semelhante ao MATLAB para fazer gráficos.\n",
    "- `plotly.express` é um módulo da biblioteca `plotly`, que é uma biblioteca de gráficos interativa e de código aberto. Ela suporta mais de 40 tipos únicos de gráficos, cobrindo uma ampla gama de casos de uso estatístico, financeiro, geográfico, científico e tridimensional."
   ]
  },
  {
   "cell_type": "markdown",
   "metadata": {},
   "source": [
    "## 🌲 **Decision Tree Classifier**"
   ]
  },
  {
   "cell_type": "code",
   "execution_count": 34,
   "metadata": {},
   "outputs": [],
   "source": [
    "from sklearn.tree import DecisionTreeClassifier"
   ]
  },
  {
   "cell_type": "markdown",
   "metadata": {},
   "source": [
    "Sobre a Árvore de Decisão: aqui o comando foi usado para importar a classe `DecisionTreeClassifier` do módulo `sklearn.tree`, este último é um módulo da biblioteca `scikit-learn`, que é uma biblioteca de Machine Learning em Python.\n",
    "\n",
    "Destrinchando mais um pouco; `DecisionTreeClassifier` é uma classe que implementa um classificador de árvore de decisão. Ela possui vários parâmetros que podem ser ajustados para controlar o comportamento do modelo, como o critério usado para medir a qualidade de uma divisão, a estratégia usada para escolher a divisão em cada nó e a profundidade máxima da árvore.\n",
    "\n",
    "#### 🔍 **Comandos de Exploração da Base de Dados**"
   ]
  },
  {
   "cell_type": "code",
   "execution_count": 35,
   "metadata": {},
   "outputs": [],
   "source": [
    "base = pd.read_csv('../datasets/restaurantev2.csv', sep=';', encoding='ISO-8859-1')"
   ]
  },
  {
   "cell_type": "markdown",
   "metadata": {},
   "source": [
    "Aqui estamos usando a função `read_csv` da biblioteca `pandas` para ler o arquivo CSV. O separador entre os campos no arquivo CSV é especificado como ponto e vírgula (`;`) usando o parâmetro `sep`. Além disso, o parâmetro `encoding` é usado para especificar que o arquivo está codificado em `ISO-8859-1`. O DataFrame resultante está sendo atribuído a uma variável chamada `base`.\n",
    "\n",
    "A função `read_csv` é usada para ler arquivos CSV (valores separados por vírgula) e converter seu conteúdo em um DataFrame do pandas. Um DataFrame é uma estrutura de dados bidimensional, semelhante a uma planilha ou tabela de banco de dados, onde as colunas podem ter tipos diferentes. É uma das estruturas de dados mais comumente usadas em análise de dados e ciência de dados."
   ]
  },
  {
   "cell_type": "code",
   "execution_count": 36,
   "metadata": {},
   "outputs": [
    {
     "data": {
      "text/html": [
       "<div>\n",
       "<style scoped>\n",
       "    .dataframe tbody tr th:only-of-type {\n",
       "        vertical-align: middle;\n",
       "    }\n",
       "\n",
       "    .dataframe tbody tr th {\n",
       "        vertical-align: top;\n",
       "    }\n",
       "\n",
       "    .dataframe thead th {\n",
       "        text-align: right;\n",
       "    }\n",
       "</style>\n",
       "<table border=\"1\" class=\"dataframe\">\n",
       "  <thead>\n",
       "    <tr style=\"text-align: right;\">\n",
       "      <th></th>\n",
       "      <th>Exemplo</th>\n",
       "      <th>Alternativo</th>\n",
       "      <th>Bar</th>\n",
       "      <th>Sex/Sab</th>\n",
       "      <th>fome</th>\n",
       "      <th>Cliente</th>\n",
       "      <th>Preço</th>\n",
       "      <th>Chuva</th>\n",
       "      <th>Res</th>\n",
       "      <th>Tipo</th>\n",
       "      <th>Tempo</th>\n",
       "      <th>conc</th>\n",
       "    </tr>\n",
       "  </thead>\n",
       "  <tbody>\n",
       "    <tr>\n",
       "      <th>0</th>\n",
       "      <td>X1</td>\n",
       "      <td>Sim</td>\n",
       "      <td>Não</td>\n",
       "      <td>Não</td>\n",
       "      <td>Sim</td>\n",
       "      <td>Alguns</td>\n",
       "      <td>RRR</td>\n",
       "      <td>Não</td>\n",
       "      <td>Sim</td>\n",
       "      <td>Francês</td>\n",
       "      <td>0-10</td>\n",
       "      <td>Sim</td>\n",
       "    </tr>\n",
       "    <tr>\n",
       "      <th>1</th>\n",
       "      <td>x2</td>\n",
       "      <td>Sim</td>\n",
       "      <td>Não</td>\n",
       "      <td>Não</td>\n",
       "      <td>Sim</td>\n",
       "      <td>Cheio</td>\n",
       "      <td>R</td>\n",
       "      <td>Não</td>\n",
       "      <td>Não</td>\n",
       "      <td>Tailandês</td>\n",
       "      <td>30-60</td>\n",
       "      <td>Não</td>\n",
       "    </tr>\n",
       "    <tr>\n",
       "      <th>2</th>\n",
       "      <td>x3</td>\n",
       "      <td>Não</td>\n",
       "      <td>Sim</td>\n",
       "      <td>Não</td>\n",
       "      <td>Não</td>\n",
       "      <td>Alguns</td>\n",
       "      <td>R</td>\n",
       "      <td>Não</td>\n",
       "      <td>Não</td>\n",
       "      <td>Hamburger</td>\n",
       "      <td>0-10</td>\n",
       "      <td>Sim</td>\n",
       "    </tr>\n",
       "    <tr>\n",
       "      <th>3</th>\n",
       "      <td>x4</td>\n",
       "      <td>Sim</td>\n",
       "      <td>Não</td>\n",
       "      <td>Sim</td>\n",
       "      <td>Sim</td>\n",
       "      <td>Cheio</td>\n",
       "      <td>R</td>\n",
       "      <td>Sim</td>\n",
       "      <td>Não</td>\n",
       "      <td>Tailandês</td>\n",
       "      <td>10-30</td>\n",
       "      <td>Sim</td>\n",
       "    </tr>\n",
       "    <tr>\n",
       "      <th>4</th>\n",
       "      <td>X5</td>\n",
       "      <td>Sim</td>\n",
       "      <td>Não</td>\n",
       "      <td>Sim</td>\n",
       "      <td>Não</td>\n",
       "      <td>Cheio</td>\n",
       "      <td>RRR</td>\n",
       "      <td>Não</td>\n",
       "      <td>Sim</td>\n",
       "      <td>Francês</td>\n",
       "      <td>&gt;60</td>\n",
       "      <td>Não</td>\n",
       "    </tr>\n",
       "    <tr>\n",
       "      <th>5</th>\n",
       "      <td>X6</td>\n",
       "      <td>Não</td>\n",
       "      <td>Sim</td>\n",
       "      <td>Não</td>\n",
       "      <td>Sim</td>\n",
       "      <td>Alguns</td>\n",
       "      <td>RR</td>\n",
       "      <td>Sim</td>\n",
       "      <td>Sim</td>\n",
       "      <td>Italiano</td>\n",
       "      <td>0-10</td>\n",
       "      <td>Sim</td>\n",
       "    </tr>\n",
       "    <tr>\n",
       "      <th>6</th>\n",
       "      <td>X7</td>\n",
       "      <td>Não</td>\n",
       "      <td>Sim</td>\n",
       "      <td>Não</td>\n",
       "      <td>Não</td>\n",
       "      <td>Nenhum</td>\n",
       "      <td>R</td>\n",
       "      <td>Sim</td>\n",
       "      <td>Não</td>\n",
       "      <td>Hamburger</td>\n",
       "      <td>0-10</td>\n",
       "      <td>Não</td>\n",
       "    </tr>\n",
       "    <tr>\n",
       "      <th>7</th>\n",
       "      <td>X8</td>\n",
       "      <td>Não</td>\n",
       "      <td>Não</td>\n",
       "      <td>Não</td>\n",
       "      <td>Sim</td>\n",
       "      <td>Alguns</td>\n",
       "      <td>RR</td>\n",
       "      <td>Sim</td>\n",
       "      <td>Sim</td>\n",
       "      <td>Tailandês</td>\n",
       "      <td>0-10</td>\n",
       "      <td>Sim</td>\n",
       "    </tr>\n",
       "    <tr>\n",
       "      <th>8</th>\n",
       "      <td>X9</td>\n",
       "      <td>Não</td>\n",
       "      <td>Sim</td>\n",
       "      <td>Sim</td>\n",
       "      <td>Não</td>\n",
       "      <td>Cheio</td>\n",
       "      <td>R</td>\n",
       "      <td>Sim</td>\n",
       "      <td>Não</td>\n",
       "      <td>Hamburger</td>\n",
       "      <td>&gt;60</td>\n",
       "      <td>Não</td>\n",
       "    </tr>\n",
       "    <tr>\n",
       "      <th>9</th>\n",
       "      <td>X10</td>\n",
       "      <td>Sim</td>\n",
       "      <td>Sim</td>\n",
       "      <td>Sim</td>\n",
       "      <td>Sim</td>\n",
       "      <td>Cheio</td>\n",
       "      <td>RRR</td>\n",
       "      <td>Não</td>\n",
       "      <td>Sim</td>\n",
       "      <td>Italiano</td>\n",
       "      <td>10-30</td>\n",
       "      <td>Não</td>\n",
       "    </tr>\n",
       "    <tr>\n",
       "      <th>10</th>\n",
       "      <td>X11</td>\n",
       "      <td>Não</td>\n",
       "      <td>Não</td>\n",
       "      <td>Não</td>\n",
       "      <td>Não</td>\n",
       "      <td>Nenhum</td>\n",
       "      <td>R</td>\n",
       "      <td>Não</td>\n",
       "      <td>Não</td>\n",
       "      <td>Tailandês</td>\n",
       "      <td>0-10</td>\n",
       "      <td>Não</td>\n",
       "    </tr>\n",
       "    <tr>\n",
       "      <th>11</th>\n",
       "      <td>X12</td>\n",
       "      <td>Sim</td>\n",
       "      <td>Sim</td>\n",
       "      <td>Sim</td>\n",
       "      <td>Sim</td>\n",
       "      <td>Cheio</td>\n",
       "      <td>R</td>\n",
       "      <td>Não</td>\n",
       "      <td>Não</td>\n",
       "      <td>Hamburger</td>\n",
       "      <td>30-60</td>\n",
       "      <td>Sim</td>\n",
       "    </tr>\n",
       "  </tbody>\n",
       "</table>\n",
       "</div>"
      ],
      "text/plain": [
       "   Exemplo Alternativo  Bar Sex/Sab fome Cliente Preço Chuva  Res       Tipo  \\\n",
       "0       X1         Sim  Não     Não  Sim  Alguns   RRR   Não  Sim    Francês   \n",
       "1       x2         Sim  Não     Não  Sim   Cheio     R   Não  Não  Tailandês   \n",
       "2       x3         Não  Sim     Não  Não  Alguns     R   Não  Não  Hamburger   \n",
       "3       x4         Sim  Não     Sim  Sim   Cheio     R   Sim  Não  Tailandês   \n",
       "4       X5         Sim  Não     Sim  Não   Cheio   RRR   Não  Sim    Francês   \n",
       "5       X6         Não  Sim     Não  Sim  Alguns    RR   Sim  Sim   Italiano   \n",
       "6       X7         Não  Sim     Não  Não  Nenhum     R   Sim  Não  Hamburger   \n",
       "7       X8         Não  Não     Não  Sim  Alguns    RR   Sim  Sim  Tailandês   \n",
       "8       X9         Não  Sim     Sim  Não   Cheio     R   Sim  Não  Hamburger   \n",
       "9      X10         Sim  Sim     Sim  Sim   Cheio   RRR   Não  Sim   Italiano   \n",
       "10     X11         Não  Não     Não  Não  Nenhum     R   Não  Não  Tailandês   \n",
       "11     X12         Sim  Sim     Sim  Sim   Cheio     R   Não  Não  Hamburger   \n",
       "\n",
       "    Tempo conc  \n",
       "0    0-10  Sim  \n",
       "1   30-60  Não  \n",
       "2    0-10  Sim  \n",
       "3   10-30  Sim  \n",
       "4     >60  Não  \n",
       "5    0-10  Sim  \n",
       "6    0-10  Não  \n",
       "7    0-10  Sim  \n",
       "8     >60  Não  \n",
       "9   10-30  Não  \n",
       "10   0-10  Não  \n",
       "11  30-60  Sim  "
      ]
     },
     "execution_count": 36,
     "metadata": {},
     "output_type": "execute_result"
    }
   ],
   "source": [
    "base"
   ]
  },
  {
   "cell_type": "markdown",
   "metadata": {},
   "source": [
    "Ao executar a variável **`base`**, o conteúdo do DataFrame armazenado nessa variável será exibido na saída da célula. Isso pode ser útil para visualizar rapidamente os dados armazenados no DataFrame. No entanto, se o DataFrame for muito grande, apenas as primeiras e últimas linhas serão exibidas, juntamente com um resumo das informações do DataFrame."
   ]
  },
  {
   "cell_type": "code",
   "execution_count": 37,
   "metadata": {},
   "outputs": [
    {
     "data": {
      "text/html": [
       "<div>\n",
       "<style scoped>\n",
       "    .dataframe tbody tr th:only-of-type {\n",
       "        vertical-align: middle;\n",
       "    }\n",
       "\n",
       "    .dataframe tbody tr th {\n",
       "        vertical-align: top;\n",
       "    }\n",
       "\n",
       "    .dataframe thead th {\n",
       "        text-align: right;\n",
       "    }\n",
       "</style>\n",
       "<table border=\"1\" class=\"dataframe\">\n",
       "  <thead>\n",
       "    <tr style=\"text-align: right;\">\n",
       "      <th></th>\n",
       "      <th>Exemplo</th>\n",
       "      <th>Alternativo</th>\n",
       "      <th>Bar</th>\n",
       "      <th>Sex/Sab</th>\n",
       "      <th>fome</th>\n",
       "      <th>Cliente</th>\n",
       "      <th>Preço</th>\n",
       "      <th>Chuva</th>\n",
       "      <th>Res</th>\n",
       "      <th>Tipo</th>\n",
       "      <th>Tempo</th>\n",
       "      <th>conc</th>\n",
       "    </tr>\n",
       "  </thead>\n",
       "  <tbody>\n",
       "    <tr>\n",
       "      <th>0</th>\n",
       "      <td>X1</td>\n",
       "      <td>Sim</td>\n",
       "      <td>Não</td>\n",
       "      <td>Não</td>\n",
       "      <td>Sim</td>\n",
       "      <td>Alguns</td>\n",
       "      <td>RRR</td>\n",
       "      <td>Não</td>\n",
       "      <td>Sim</td>\n",
       "      <td>Francês</td>\n",
       "      <td>0-10</td>\n",
       "      <td>Sim</td>\n",
       "    </tr>\n",
       "    <tr>\n",
       "      <th>1</th>\n",
       "      <td>x2</td>\n",
       "      <td>Sim</td>\n",
       "      <td>Não</td>\n",
       "      <td>Não</td>\n",
       "      <td>Sim</td>\n",
       "      <td>Cheio</td>\n",
       "      <td>R</td>\n",
       "      <td>Não</td>\n",
       "      <td>Não</td>\n",
       "      <td>Tailandês</td>\n",
       "      <td>30-60</td>\n",
       "      <td>Não</td>\n",
       "    </tr>\n",
       "    <tr>\n",
       "      <th>2</th>\n",
       "      <td>x3</td>\n",
       "      <td>Não</td>\n",
       "      <td>Sim</td>\n",
       "      <td>Não</td>\n",
       "      <td>Não</td>\n",
       "      <td>Alguns</td>\n",
       "      <td>R</td>\n",
       "      <td>Não</td>\n",
       "      <td>Não</td>\n",
       "      <td>Hamburger</td>\n",
       "      <td>0-10</td>\n",
       "      <td>Sim</td>\n",
       "    </tr>\n",
       "    <tr>\n",
       "      <th>3</th>\n",
       "      <td>x4</td>\n",
       "      <td>Sim</td>\n",
       "      <td>Não</td>\n",
       "      <td>Sim</td>\n",
       "      <td>Sim</td>\n",
       "      <td>Cheio</td>\n",
       "      <td>R</td>\n",
       "      <td>Sim</td>\n",
       "      <td>Não</td>\n",
       "      <td>Tailandês</td>\n",
       "      <td>10-30</td>\n",
       "      <td>Sim</td>\n",
       "    </tr>\n",
       "    <tr>\n",
       "      <th>4</th>\n",
       "      <td>X5</td>\n",
       "      <td>Sim</td>\n",
       "      <td>Não</td>\n",
       "      <td>Sim</td>\n",
       "      <td>Não</td>\n",
       "      <td>Cheio</td>\n",
       "      <td>RRR</td>\n",
       "      <td>Não</td>\n",
       "      <td>Sim</td>\n",
       "      <td>Francês</td>\n",
       "      <td>&gt;60</td>\n",
       "      <td>Não</td>\n",
       "    </tr>\n",
       "  </tbody>\n",
       "</table>\n",
       "</div>"
      ],
      "text/plain": [
       "  Exemplo Alternativo  Bar Sex/Sab fome Cliente Preço Chuva  Res       Tipo  \\\n",
       "0      X1         Sim  Não     Não  Sim  Alguns   RRR   Não  Sim    Francês   \n",
       "1      x2         Sim  Não     Não  Sim   Cheio     R   Não  Não  Tailandês   \n",
       "2      x3         Não  Sim     Não  Não  Alguns     R   Não  Não  Hamburger   \n",
       "3      x4         Sim  Não     Sim  Sim   Cheio     R   Sim  Não  Tailandês   \n",
       "4      X5         Sim  Não     Sim  Não   Cheio   RRR   Não  Sim    Francês   \n",
       "\n",
       "   Tempo conc  \n",
       "0   0-10  Sim  \n",
       "1  30-60  Não  \n",
       "2   0-10  Sim  \n",
       "3  10-30  Sim  \n",
       "4    >60  Não  "
      ]
     },
     "execution_count": 37,
     "metadata": {},
     "output_type": "execute_result"
    }
   ],
   "source": [
    "base.head(5)"
   ]
  },
  {
   "cell_type": "markdown",
   "metadata": {},
   "source": [
    "O método **``head()``** de um DataFrame do pandas retorna as primeiras `n` linhas do DataFrame, onde `n` é especificado como um argumento para o método. Se `n` não for especificado, o valor padrão é 5. Neste caso, **``base.head(5)``** retornará as primeiras 5 linhas do DataFrame **``base``**. Este método é útil para inspecionar rapidamente o conteúdo de um DataFrame para ver se ele contém o tipo certo de dados"
   ]
  },
  {
   "cell_type": "code",
   "execution_count": 38,
   "metadata": {},
   "outputs": [
    {
     "data": {
      "text/html": [
       "<div>\n",
       "<style scoped>\n",
       "    .dataframe tbody tr th:only-of-type {\n",
       "        vertical-align: middle;\n",
       "    }\n",
       "\n",
       "    .dataframe tbody tr th {\n",
       "        vertical-align: top;\n",
       "    }\n",
       "\n",
       "    .dataframe thead th {\n",
       "        text-align: right;\n",
       "    }\n",
       "</style>\n",
       "<table border=\"1\" class=\"dataframe\">\n",
       "  <thead>\n",
       "    <tr style=\"text-align: right;\">\n",
       "      <th></th>\n",
       "      <th>Exemplo</th>\n",
       "      <th>Alternativo</th>\n",
       "      <th>Bar</th>\n",
       "      <th>Sex/Sab</th>\n",
       "      <th>fome</th>\n",
       "      <th>Cliente</th>\n",
       "      <th>Preço</th>\n",
       "      <th>Chuva</th>\n",
       "      <th>Res</th>\n",
       "      <th>Tipo</th>\n",
       "      <th>Tempo</th>\n",
       "      <th>conc</th>\n",
       "    </tr>\n",
       "  </thead>\n",
       "  <tbody>\n",
       "    <tr>\n",
       "      <th>7</th>\n",
       "      <td>X8</td>\n",
       "      <td>Não</td>\n",
       "      <td>Não</td>\n",
       "      <td>Não</td>\n",
       "      <td>Sim</td>\n",
       "      <td>Alguns</td>\n",
       "      <td>RR</td>\n",
       "      <td>Sim</td>\n",
       "      <td>Sim</td>\n",
       "      <td>Tailandês</td>\n",
       "      <td>0-10</td>\n",
       "      <td>Sim</td>\n",
       "    </tr>\n",
       "    <tr>\n",
       "      <th>8</th>\n",
       "      <td>X9</td>\n",
       "      <td>Não</td>\n",
       "      <td>Sim</td>\n",
       "      <td>Sim</td>\n",
       "      <td>Não</td>\n",
       "      <td>Cheio</td>\n",
       "      <td>R</td>\n",
       "      <td>Sim</td>\n",
       "      <td>Não</td>\n",
       "      <td>Hamburger</td>\n",
       "      <td>&gt;60</td>\n",
       "      <td>Não</td>\n",
       "    </tr>\n",
       "    <tr>\n",
       "      <th>9</th>\n",
       "      <td>X10</td>\n",
       "      <td>Sim</td>\n",
       "      <td>Sim</td>\n",
       "      <td>Sim</td>\n",
       "      <td>Sim</td>\n",
       "      <td>Cheio</td>\n",
       "      <td>RRR</td>\n",
       "      <td>Não</td>\n",
       "      <td>Sim</td>\n",
       "      <td>Italiano</td>\n",
       "      <td>10-30</td>\n",
       "      <td>Não</td>\n",
       "    </tr>\n",
       "    <tr>\n",
       "      <th>10</th>\n",
       "      <td>X11</td>\n",
       "      <td>Não</td>\n",
       "      <td>Não</td>\n",
       "      <td>Não</td>\n",
       "      <td>Não</td>\n",
       "      <td>Nenhum</td>\n",
       "      <td>R</td>\n",
       "      <td>Não</td>\n",
       "      <td>Não</td>\n",
       "      <td>Tailandês</td>\n",
       "      <td>0-10</td>\n",
       "      <td>Não</td>\n",
       "    </tr>\n",
       "    <tr>\n",
       "      <th>11</th>\n",
       "      <td>X12</td>\n",
       "      <td>Sim</td>\n",
       "      <td>Sim</td>\n",
       "      <td>Sim</td>\n",
       "      <td>Sim</td>\n",
       "      <td>Cheio</td>\n",
       "      <td>R</td>\n",
       "      <td>Não</td>\n",
       "      <td>Não</td>\n",
       "      <td>Hamburger</td>\n",
       "      <td>30-60</td>\n",
       "      <td>Sim</td>\n",
       "    </tr>\n",
       "  </tbody>\n",
       "</table>\n",
       "</div>"
      ],
      "text/plain": [
       "   Exemplo Alternativo  Bar Sex/Sab fome Cliente Preço Chuva  Res       Tipo  \\\n",
       "7       X8         Não  Não     Não  Sim  Alguns    RR   Sim  Sim  Tailandês   \n",
       "8       X9         Não  Sim     Sim  Não   Cheio     R   Sim  Não  Hamburger   \n",
       "9      X10         Sim  Sim     Sim  Sim   Cheio   RRR   Não  Sim   Italiano   \n",
       "10     X11         Não  Não     Não  Não  Nenhum     R   Não  Não  Tailandês   \n",
       "11     X12         Sim  Sim     Sim  Sim   Cheio     R   Não  Não  Hamburger   \n",
       "\n",
       "    Tempo conc  \n",
       "7    0-10  Sim  \n",
       "8     >60  Não  \n",
       "9   10-30  Não  \n",
       "10   0-10  Não  \n",
       "11  30-60  Sim  "
      ]
     },
     "execution_count": 38,
     "metadata": {},
     "output_type": "execute_result"
    }
   ],
   "source": [
    "base.tail(5)"
   ]
  },
  {
   "cell_type": "markdown",
   "metadata": {},
   "source": [
    "O método **``tail()``** de um DataFrame do pandas retorna as últimas `n` linhas do DataFrame, onde `n` é especificado como um argumento para o método. Se `n` não for especificado, o valor padrão é 5. Neste caso, **`base.tail(5)`** retornará as últimas 5 linhas do DataFrame **`base`**. Este método é útil para inspecionar rapidamente o conteúdo de um DataFrame para ver se ele contém o tipo certo de dados."
   ]
  },
  {
   "cell_type": "code",
   "execution_count": 39,
   "metadata": {},
   "outputs": [
    {
     "data": {
      "text/plain": [
       "(array(['Não', 'Sim'], dtype=object), array([6, 6], dtype=int64))"
      ]
     },
     "execution_count": 39,
     "metadata": {},
     "output_type": "execute_result"
    }
   ],
   "source": [
    "np.unique(base['conc'], return_counts=True)"
   ]
  },
  {
   "cell_type": "markdown",
   "metadata": {},
   "source": [
    "Este é um comando do pacote NumPy que retorna os valores únicos de um array e a quantidade de vezes que cada valor único aparece no array. Neste caso, o comando está sendo aplicado na coluna **``'conc'``** do DataFrame **``base``**. O resultado será uma tupla com dois arrays: o primeiro contendo os valores únicos da coluna **``'conc'``** e o segundo contendo a quantidade de vezes que cada valor único aparece na coluna."
   ]
  },
  {
   "cell_type": "code",
   "execution_count": 40,
   "metadata": {},
   "outputs": [
    {
     "name": "stderr",
     "output_type": "stream",
     "text": [
      "C:\\Users\\miran\\AppData\\Local\\Packages\\PythonSoftwareFoundation.Python.3.11_qbz5n2kfra8p0\\LocalCache\\local-packages\\Python311\\site-packages\\seaborn\\_oldcore.py:1498: FutureWarning: is_categorical_dtype is deprecated and will be removed in a future version. Use isinstance(dtype, CategoricalDtype) instead\n",
      "  if pd.api.types.is_categorical_dtype(vector):\n",
      "C:\\Users\\miran\\AppData\\Local\\Packages\\PythonSoftwareFoundation.Python.3.11_qbz5n2kfra8p0\\LocalCache\\local-packages\\Python311\\site-packages\\seaborn\\_oldcore.py:1498: FutureWarning: is_categorical_dtype is deprecated and will be removed in a future version. Use isinstance(dtype, CategoricalDtype) instead\n",
      "  if pd.api.types.is_categorical_dtype(vector):\n",
      "C:\\Users\\miran\\AppData\\Local\\Packages\\PythonSoftwareFoundation.Python.3.11_qbz5n2kfra8p0\\LocalCache\\local-packages\\Python311\\site-packages\\seaborn\\_oldcore.py:1498: FutureWarning: is_categorical_dtype is deprecated and will be removed in a future version. Use isinstance(dtype, CategoricalDtype) instead\n",
      "  if pd.api.types.is_categorical_dtype(vector):\n"
     ]
    },
    {
     "data": {
      "image/png": "[encoded data removed]",
      "text/plain": [
       "<Figure size 640x480 with 1 Axes>"
      ]
     },
     "metadata": {},
     "output_type": "display_data"
    }
   ],
   "source": [
    "sns.countplot(x = base['conc']);"
   ]
  },
  {
   "cell_type": "markdown",
   "metadata": {},
   "source": [
    "Este é um comando do pacote seaborn que cria um gráfico de barras mostrando a contagem de observações em cada categoria da variável categórica especificada. Neste caso, o comando está sendo aplicado na coluna **``'conc'``** do DataFrame **``base``**. O gráfico resultante terá uma barra para cada valor único na coluna **``'conc'``**, e a altura de cada barra representará a quantidade de vezes que cada valor aparece na coluna."
   ]
  },
  {
   "cell_type": "code",
   "execution_count": 41,
   "metadata": {},
   "outputs": [
    {
     "data": {
      "text/plain": [
       "array([['Sim', 'Não', 'Não', 'Sim', 'Alguns', 'RRR', 'Não', 'Sim',\n",
       "        'Francês', '0-10'],\n",
       "       ['Sim', 'Não', 'Não', 'Sim', 'Cheio', 'R', 'Não', 'Não',\n",
       "        'Tailandês', '30-60'],\n",
       "       ['Não', 'Sim', 'Não', 'Não', 'Alguns', 'R', 'Não', 'Não',\n",
       "        'Hamburger', '0-10'],\n",
       "       ['Sim', 'Não', 'Sim', 'Sim', 'Cheio', 'R', 'Sim', 'Não',\n",
       "        'Tailandês', '10-30'],\n",
       "       ['Sim', 'Não', 'Sim', 'Não', 'Cheio', 'RRR', 'Não', 'Sim',\n",
       "        'Francês', '>60'],\n",
       "       ['Não', 'Sim', 'Não', 'Sim', 'Alguns', 'RR', 'Sim', 'Sim',\n",
       "        'Italiano', '0-10'],\n",
       "       ['Não', 'Sim', 'Não', 'Não', 'Nenhum', 'R', 'Sim', 'Não',\n",
       "        'Hamburger', '0-10'],\n",
       "       ['Não', 'Não', 'Não', 'Sim', 'Alguns', 'RR', 'Sim', 'Sim',\n",
       "        'Tailandês', '0-10'],\n",
       "       ['Não', 'Sim', 'Sim', 'Não', 'Cheio', 'R', 'Sim', 'Não',\n",
       "        'Hamburger', '>60'],\n",
       "       ['Sim', 'Sim', 'Sim', 'Sim', 'Cheio', 'RRR', 'Não', 'Sim',\n",
       "        'Italiano', '10-30'],\n",
       "       ['Não', 'Não', 'Não', 'Não', 'Nenhum', 'R', 'Não', 'Não',\n",
       "        'Tailandês', '0-10'],\n",
       "       ['Sim', 'Sim', 'Sim', 'Sim', 'Cheio', 'R', 'Não', 'Não',\n",
       "        'Hamburger', '30-60']], dtype=object)"
      ]
     },
     "execution_count": 41,
     "metadata": {},
     "output_type": "execute_result"
    }
   ],
   "source": [
    "X_prev = base.iloc[:, 1:11].values\n",
    "X_prev"
   ]
  },
  {
   "cell_type": "markdown",
   "metadata": {},
   "source": [
    "Aqui estamos selecionando todas as linhas e 10 colunas do DataFrame **``base``** e armazenando o resultado na variável **``X_prev``**. O método **``iloc``** é usado para selecionar dados por índice de posição, e a sintaxe **``[:, 1:11]``** especifica que todas as linhas (**``:``**) e as colunas de índice 1 a 10 (**``1:11``**) devem ser selecionadas. O método **``values``** é usado para extrair os valores do DataFrame como um array NumPy. Portanto, **``X_prev``** será um array NumPy contendo os valores das 10 colunas de todas as linhas do DataFrame **``base``**. Quando **``X_prev``** for executado, o conteúdo do array será exibido.\n",
    "\n",
    "> Observação: é comum usar a variável X para representar os dados de entrada (também chamados de atributos ou características)."
   ]
  },
  {
   "cell_type": "code",
   "execution_count": 42,
   "metadata": {},
   "outputs": [
    {
     "data": {
      "text/html": [
       "<div>\n",
       "<style scoped>\n",
       "    .dataframe tbody tr th:only-of-type {\n",
       "        vertical-align: middle;\n",
       "    }\n",
       "\n",
       "    .dataframe tbody tr th {\n",
       "        vertical-align: top;\n",
       "    }\n",
       "\n",
       "    .dataframe thead th {\n",
       "        text-align: right;\n",
       "    }\n",
       "</style>\n",
       "<table border=\"1\" class=\"dataframe\">\n",
       "  <thead>\n",
       "    <tr style=\"text-align: right;\">\n",
       "      <th></th>\n",
       "      <th>Alternativo</th>\n",
       "      <th>Bar</th>\n",
       "      <th>Sex/Sab</th>\n",
       "      <th>fome</th>\n",
       "      <th>Cliente</th>\n",
       "      <th>Preço</th>\n",
       "      <th>Chuva</th>\n",
       "      <th>Res</th>\n",
       "      <th>Tipo</th>\n",
       "      <th>Tempo</th>\n",
       "    </tr>\n",
       "  </thead>\n",
       "  <tbody>\n",
       "    <tr>\n",
       "      <th>0</th>\n",
       "      <td>Sim</td>\n",
       "      <td>Não</td>\n",
       "      <td>Não</td>\n",
       "      <td>Sim</td>\n",
       "      <td>Alguns</td>\n",
       "      <td>RRR</td>\n",
       "      <td>Não</td>\n",
       "      <td>Sim</td>\n",
       "      <td>Francês</td>\n",
       "      <td>0-10</td>\n",
       "    </tr>\n",
       "    <tr>\n",
       "      <th>1</th>\n",
       "      <td>Sim</td>\n",
       "      <td>Não</td>\n",
       "      <td>Não</td>\n",
       "      <td>Sim</td>\n",
       "      <td>Cheio</td>\n",
       "      <td>R</td>\n",
       "      <td>Não</td>\n",
       "      <td>Não</td>\n",
       "      <td>Tailandês</td>\n",
       "      <td>30-60</td>\n",
       "    </tr>\n",
       "    <tr>\n",
       "      <th>2</th>\n",
       "      <td>Não</td>\n",
       "      <td>Sim</td>\n",
       "      <td>Não</td>\n",
       "      <td>Não</td>\n",
       "      <td>Alguns</td>\n",
       "      <td>R</td>\n",
       "      <td>Não</td>\n",
       "      <td>Não</td>\n",
       "      <td>Hamburger</td>\n",
       "      <td>0-10</td>\n",
       "    </tr>\n",
       "    <tr>\n",
       "      <th>3</th>\n",
       "      <td>Sim</td>\n",
       "      <td>Não</td>\n",
       "      <td>Sim</td>\n",
       "      <td>Sim</td>\n",
       "      <td>Cheio</td>\n",
       "      <td>R</td>\n",
       "      <td>Sim</td>\n",
       "      <td>Não</td>\n",
       "      <td>Tailandês</td>\n",
       "      <td>10-30</td>\n",
       "    </tr>\n",
       "    <tr>\n",
       "      <th>4</th>\n",
       "      <td>Sim</td>\n",
       "      <td>Não</td>\n",
       "      <td>Sim</td>\n",
       "      <td>Não</td>\n",
       "      <td>Cheio</td>\n",
       "      <td>RRR</td>\n",
       "      <td>Não</td>\n",
       "      <td>Sim</td>\n",
       "      <td>Francês</td>\n",
       "      <td>&gt;60</td>\n",
       "    </tr>\n",
       "    <tr>\n",
       "      <th>5</th>\n",
       "      <td>Não</td>\n",
       "      <td>Sim</td>\n",
       "      <td>Não</td>\n",
       "      <td>Sim</td>\n",
       "      <td>Alguns</td>\n",
       "      <td>RR</td>\n",
       "      <td>Sim</td>\n",
       "      <td>Sim</td>\n",
       "      <td>Italiano</td>\n",
       "      <td>0-10</td>\n",
       "    </tr>\n",
       "    <tr>\n",
       "      <th>6</th>\n",
       "      <td>Não</td>\n",
       "      <td>Sim</td>\n",
       "      <td>Não</td>\n",
       "      <td>Não</td>\n",
       "      <td>Nenhum</td>\n",
       "      <td>R</td>\n",
       "      <td>Sim</td>\n",
       "      <td>Não</td>\n",
       "      <td>Hamburger</td>\n",
       "      <td>0-10</td>\n",
       "    </tr>\n",
       "    <tr>\n",
       "      <th>7</th>\n",
       "      <td>Não</td>\n",
       "      <td>Não</td>\n",
       "      <td>Não</td>\n",
       "      <td>Sim</td>\n",
       "      <td>Alguns</td>\n",
       "      <td>RR</td>\n",
       "      <td>Sim</td>\n",
       "      <td>Sim</td>\n",
       "      <td>Tailandês</td>\n",
       "      <td>0-10</td>\n",
       "    </tr>\n",
       "    <tr>\n",
       "      <th>8</th>\n",
       "      <td>Não</td>\n",
       "      <td>Sim</td>\n",
       "      <td>Sim</td>\n",
       "      <td>Não</td>\n",
       "      <td>Cheio</td>\n",
       "      <td>R</td>\n",
       "      <td>Sim</td>\n",
       "      <td>Não</td>\n",
       "      <td>Hamburger</td>\n",
       "      <td>&gt;60</td>\n",
       "    </tr>\n",
       "    <tr>\n",
       "      <th>9</th>\n",
       "      <td>Sim</td>\n",
       "      <td>Sim</td>\n",
       "      <td>Sim</td>\n",
       "      <td>Sim</td>\n",
       "      <td>Cheio</td>\n",
       "      <td>RRR</td>\n",
       "      <td>Não</td>\n",
       "      <td>Sim</td>\n",
       "      <td>Italiano</td>\n",
       "      <td>10-30</td>\n",
       "    </tr>\n",
       "    <tr>\n",
       "      <th>10</th>\n",
       "      <td>Não</td>\n",
       "      <td>Não</td>\n",
       "      <td>Não</td>\n",
       "      <td>Não</td>\n",
       "      <td>Nenhum</td>\n",
       "      <td>R</td>\n",
       "      <td>Não</td>\n",
       "      <td>Não</td>\n",
       "      <td>Tailandês</td>\n",
       "      <td>0-10</td>\n",
       "    </tr>\n",
       "    <tr>\n",
       "      <th>11</th>\n",
       "      <td>Sim</td>\n",
       "      <td>Sim</td>\n",
       "      <td>Sim</td>\n",
       "      <td>Sim</td>\n",
       "      <td>Cheio</td>\n",
       "      <td>R</td>\n",
       "      <td>Não</td>\n",
       "      <td>Não</td>\n",
       "      <td>Hamburger</td>\n",
       "      <td>30-60</td>\n",
       "    </tr>\n",
       "  </tbody>\n",
       "</table>\n",
       "</div>"
      ],
      "text/plain": [
       "   Alternativo  Bar Sex/Sab fome Cliente Preço Chuva  Res       Tipo  Tempo\n",
       "0          Sim  Não     Não  Sim  Alguns   RRR   Não  Sim    Francês   0-10\n",
       "1          Sim  Não     Não  Sim   Cheio     R   Não  Não  Tailandês  30-60\n",
       "2          Não  Sim     Não  Não  Alguns     R   Não  Não  Hamburger   0-10\n",
       "3          Sim  Não     Sim  Sim   Cheio     R   Sim  Não  Tailandês  10-30\n",
       "4          Sim  Não     Sim  Não   Cheio   RRR   Não  Sim    Francês    >60\n",
       "5          Não  Sim     Não  Sim  Alguns    RR   Sim  Sim   Italiano   0-10\n",
       "6          Não  Sim     Não  Não  Nenhum     R   Sim  Não  Hamburger   0-10\n",
       "7          Não  Não     Não  Sim  Alguns    RR   Sim  Sim  Tailandês   0-10\n",
       "8          Não  Sim     Sim  Não   Cheio     R   Sim  Não  Hamburger    >60\n",
       "9          Sim  Sim     Sim  Sim   Cheio   RRR   Não  Sim   Italiano  10-30\n",
       "10         Não  Não     Não  Não  Nenhum     R   Não  Não  Tailandês   0-10\n",
       "11         Sim  Sim     Sim  Sim   Cheio     R   Não  Não  Hamburger  30-60"
      ]
     },
     "execution_count": 42,
     "metadata": {},
     "output_type": "execute_result"
    }
   ],
   "source": [
    "X_prev_label = base.iloc[:, 1:11]\n",
    "X_prev_label"
   ]
  },
  {
   "cell_type": "markdown",
   "metadata": {},
   "source": [
    "Neste caso, estamos usando o método **``iloc``** para exibir os dados do DataFrame **``base``** conforme o recorte especificado."
   ]
  },
  {
   "cell_type": "code",
   "execution_count": 43,
   "metadata": {},
   "outputs": [
    {
     "data": {
      "text/plain": [
       "array(['RRR', 'R', 'R', 'R', 'RRR', 'RR', 'R', 'RR', 'R', 'RRR', 'R', 'R'],\n",
       "      dtype=object)"
      ]
     },
     "execution_count": 43,
     "metadata": {},
     "output_type": "execute_result"
    }
   ],
   "source": [
    "X_prev[:,5]"
   ]
  },
  {
   "cell_type": "markdown",
   "metadata": {},
   "source": [
    "Aqui estamos selecionando todas as linhas da coluna de índice 5 do array **``X_prev``**. A sintaxe **``[:,5]``** especifica que todas as linhas (**``:``**) e a coluna de índice 5 (**``5``**) devem ser selecionadas. Portanto, o resultado será um array unidimensional contendo os valores da coluna de índice 5 de todas as linhas do array **``X_prev``**."
   ]
  },
  {
   "cell_type": "code",
   "execution_count": 44,
   "metadata": {},
   "outputs": [
    {
     "data": {
      "text/plain": [
       "array(['Sim', 'Não', 'Sim', 'Sim', 'Não', 'Sim', 'Não', 'Sim', 'Não',\n",
       "       'Não', 'Não', 'Sim'], dtype=object)"
      ]
     },
     "execution_count": 44,
     "metadata": {},
     "output_type": "execute_result"
    }
   ],
   "source": [
    "y_class = base.iloc[:, 11].values\n",
    "y_class"
   ]
  },
  {
   "cell_type": "markdown",
   "metadata": {},
   "source": [
    "Neste caso, estamos selecionando todas as linhas da coluna de índice 11 do DataFrame **``base``** e armazenando o resultado na variável **``y_class``**. Portanto, seu uso implicará na exibição de um array NumPy contendo os valores da coluna de índice 11 de todas as linhas do DataFrame **``base``**.\n",
    "\n",
    "> Observação: é comum usar a variável y para representar os dados de saída (também chamados de rótulos ou classes)."
   ]
  },
  {
   "cell_type": "code",
   "execution_count": 45,
   "metadata": {},
   "outputs": [],
   "source": [
    "# X = base.copy()\n",
    "# y = X.pop('conc')"
   ]
  },
  {
   "cell_type": "markdown",
   "metadata": {},
   "source": [
    "O comando **``X = base.copy()``** cria uma cópia do DataFrame **``base``** e armazena o resultado na variável **``X``**. Isso é útil para evitar modificar o DataFrame original ao realizar operações no DataFrame copiado. \n",
    "\n",
    "Já o comando **``y = X.pop('conc')``** remove a coluna **``'conc'``** do DataFrame **``X``** e armazena os valores da coluna removida na variável **``y``**. O método **``pop``** é usado para remover uma coluna do DataFrame e retornar os valores da coluna removida."
   ]
  },
  {
   "cell_type": "code",
   "execution_count": 46,
   "metadata": {},
   "outputs": [],
   "source": [
    "from sklearn.preprocessing import LabelEncoder"
   ]
  },
  {
   "cell_type": "markdown",
   "metadata": {},
   "source": [
    "Aqui estamos importando a classe **``LabelEncoder``** do módulo **``preprocessing``** do pacote **``sklearn``**. A classe **``LabelEncoder``** é uma ferramenta útil para codificar rótulos categóricos em valores numéricos. Isso é necessário porque muitos algoritmos de aprendizado de máquina não conseguem lidar diretamente com rótulos categóricos e requerem que os dados de entrada sejam numéricos. Com o **``LabelEncoder``** é possível transformar facilmente rótulos categóricos em valores numéricos, permitindo que esses dados sejam usados com algoritmos de aprendizado de máquina."
   ]
  },
  {
   "cell_type": "code",
   "execution_count": 47,
   "metadata": {},
   "outputs": [],
   "source": [
    "label_encoder = LabelEncoder()"
   ]
  },
  {
   "cell_type": "markdown",
   "metadata": {},
   "source": [
    "Aqui eu criei uma instância da classe **``LabelEncoder``** e armazenei o resultado na variável **``label_encoder``**."
   ]
  },
  {
   "cell_type": "code",
   "execution_count": 64,
   "metadata": {},
   "outputs": [
    {
     "data": {
      "text/plain": [
       "array([2, 0, 0, 0, 2, 1, 0, 1, 0, 2, 0, 0], dtype=object)"
      ]
     },
     "execution_count": 64,
     "metadata": {},
     "output_type": "execute_result"
    }
   ],
   "source": [
    "X_prev[:,5]"
   ]
  },
  {
   "cell_type": "code",
   "execution_count": 65,
   "metadata": {},
   "outputs": [
    {
     "data": {
      "text/plain": [
       "array([['Sim', 'Não', 0, 1, 0, 2, 'Não', 'Sim', 0, 0],\n",
       "       ['Sim', 'Não', 0, 1, 1, 0, 'Não', 'Não', 3, 2],\n",
       "       ['Não', 'Sim', 0, 0, 0, 0, 'Não', 'Não', 1, 0],\n",
       "       ['Sim', 'Não', 1, 1, 1, 0, 'Sim', 'Não', 3, 1],\n",
       "       ['Sim', 'Não', 1, 0, 1, 2, 'Não', 'Sim', 0, 3],\n",
       "       ['Não', 'Sim', 0, 1, 0, 1, 'Sim', 'Sim', 2, 0],\n",
       "       ['Não', 'Sim', 0, 0, 2, 0, 'Sim', 'Não', 1, 0],\n",
       "       ['Não', 'Não', 0, 1, 0, 1, 'Sim', 'Sim', 3, 0],\n",
       "       ['Não', 'Sim', 1, 0, 1, 0, 'Sim', 'Não', 1, 3],\n",
       "       ['Sim', 'Sim', 1, 1, 1, 2, 'Não', 'Sim', 2, 1],\n",
       "       ['Não', 'Não', 0, 0, 2, 0, 'Não', 'Não', 3, 0],\n",
       "       ['Sim', 'Sim', 1, 1, 1, 0, 'Não', 'Não', 1, 2]], dtype=object)"
      ]
     },
     "execution_count": 65,
     "metadata": {},
     "output_type": "execute_result"
    }
   ],
   "source": [
    "X_prev"
   ]
  },
  {
   "cell_type": "code",
   "execution_count": 66,
   "metadata": {},
   "outputs": [],
   "source": [
    "label_encoder_Alternativo = LabelEncoder()\n",
    "label_encoder_Bar = LabelEncoder()\n",
    "label_encoder_SexSab = LabelEncoder()\n",
    "label_encoder_fome = LabelEncoder()\n",
    "label_encoder_chuva = LabelEncoder()\n",
    "label_encoder_Res = LabelEncoder()"
   ]
  },
  {
   "cell_type": "markdown",
   "metadata": {},
   "source": [
    "Neste trecho, estou utilizando cada instância do **``LabelEncoder``** para codificar as colunas categóricas do conjunto de dados."
   ]
  },
  {
   "cell_type": "code",
   "execution_count": 67,
   "metadata": {},
   "outputs": [],
   "source": [
    "X_prev[:,2] = label_encoder_Alternativo.fit_transform(X_prev[:,2])\n",
    "X_prev[:,3] = label_encoder_Bar.fit_transform(X_prev[:,3])\n",
    "X_prev[:,4] = label_encoder_SexSab.fit_transform(X_prev[:,4])\n",
    "X_prev[:,5] = label_encoder_fome.fit_transform(X_prev[:,5])\n",
    "X_prev[:,8] = label_encoder_chuva.fit_transform(X_prev[:,8])\n",
    "X_prev[:,9] = label_encoder_Res.fit_transform(X_prev[:,9])"
   ]
  },
  {
   "cell_type": "markdown",
   "metadata": {},
   "source": [
    "Estou utilizando as várias instâncias da classe **``LabelEncoder``** com o método **``fit_transform()``** para ajustar o codificador aos dados da coluna e, em seguida, transformar os rótulos categóricos em valores numéricos."
   ]
  },
  {
   "cell_type": "code",
   "execution_count": 68,
   "metadata": {},
   "outputs": [
    {
     "data": {
      "text/plain": [
       "array([['Sim', 'Não', 0, 1, 0, 2, 'Não', 'Sim', 0, 0],\n",
       "       ['Sim', 'Não', 0, 1, 1, 0, 'Não', 'Não', 3, 2],\n",
       "       ['Não', 'Sim', 0, 0, 0, 0, 'Não', 'Não', 1, 0],\n",
       "       ['Sim', 'Não', 1, 1, 1, 0, 'Sim', 'Não', 3, 1],\n",
       "       ['Sim', 'Não', 1, 0, 1, 2, 'Não', 'Sim', 0, 3],\n",
       "       ['Não', 'Sim', 0, 1, 0, 1, 'Sim', 'Sim', 2, 0],\n",
       "       ['Não', 'Sim', 0, 0, 2, 0, 'Sim', 'Não', 1, 0],\n",
       "       ['Não', 'Não', 0, 1, 0, 1, 'Sim', 'Sim', 3, 0],\n",
       "       ['Não', 'Sim', 1, 0, 1, 0, 'Sim', 'Não', 1, 3],\n",
       "       ['Sim', 'Sim', 1, 1, 1, 2, 'Não', 'Sim', 2, 1],\n",
       "       ['Não', 'Não', 0, 0, 2, 0, 'Não', 'Não', 3, 0],\n",
       "       ['Sim', 'Sim', 1, 1, 1, 0, 'Não', 'Não', 1, 2]], dtype=object)"
      ]
     },
     "execution_count": 68,
     "metadata": {},
     "output_type": "execute_result"
    }
   ],
   "source": [
    "X_prev"
   ]
  }
 ],
 "metadata": {
  "kernelspec": {
   "display_name": "Python 3",
   "language": "python",
   "name": "python3"
  },
  "language_info": {
   "codemirror_mode": {
    "name": "ipython",
    "version": 3
   },
   "file_extension": ".py",
   "mimetype": "text/x-python",
   "name": "python",
   "nbconvert_exporter": "python",
   "pygments_lexer": "ipython3",
   "version": "3.11.5"
  },
  "orig_nbformat": 4
 },
 "nbformat": 4,
 "nbformat_minor": 2
}
