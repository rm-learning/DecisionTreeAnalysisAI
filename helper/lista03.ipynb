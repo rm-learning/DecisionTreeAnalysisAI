{
 "cells": [
  {
   "cell_type": "markdown",
   "metadata": {},
   "source": [
    "## 📍**Questão 1**\n",
    "\n",
    "Com base nestas informações, qual as saídas da árvore para os registros de teste, respectivamente?\n",
    "\n",
    "- a) Iris_Virgínica, íris_Setosa, Iris_Versicolor, Iris_Virgínica\n",
    "- b) Iris_Virgínica, íris_Setosa, Iris_Virgínica , Iris_Versicolor\n",
    "- c) Iris_Versicolor, íris_Setosa, Iris_Versicolor, Iris_Virgínica\n",
    "- d) Íris_Setosa, Iris_Virgínica, Iris_Virgínica , Iris_Versicolor\n",
    "- **_e) Iris_Versicolor, Íris_Setosa, Iris_Versicolor, Iris_Virgínica_**\n",
    "  \n",
    "**Resposta:** \n",
    "1° Regra: petallength <= 2.35\n",
    "\n",
    "Instância 2 = Íris-setosa\n",
    "\n",
    "2° Regra: petalwidth <= 1.75\n",
    "\n",
    "Instância 1\n",
    "\n",
    "3° Regra à esquerda -> petallength <= 4.95\n",
    "\n",
    "Instância 1 = Íris-versicolor\n",
    "\n",
    "3° Regra à direita -> petallength <= 4.85\n",
    "\n",
    "Intância 3 = Íris-versicolor\n",
    "\n",
    "3° Regra à direita (else) -> petallength > 4.85\n",
    "\n",
    "Instância 4 = Íris-virginica"
   ]
  },
  {
   "cell_type": "markdown",
   "metadata": {},
   "source": [
    "## **Questão 2**\n",
    "Considerando a árvore da questão anterior, e as seguintes afirmações:\n",
    "\n",
    "> I. Esta árvore possui 5 regras de classificação\n",
    "> II. Das regras geradas, há apenas uma com cobertura por classe de 100%\n",
    "> III. A menor cobertura por classe é de 6.8% e corresponde à classe Iris_Virgínica\n",
    "\n",
    "É correto o que se afirma em:\n",
    "\n",
    "**Resposta: C**\n",
    "\n",
    "- **I**. Esta árvore possui 5 regras de classificação (VERDADEIRA)\n",
    "- **II**. Das regras geradas, há apenas uma com cobertura por classe de 100% (VERDADEIRA)\n",
    "- III. A menor cobertura por classe é de 6.8% e corresponde à classe Iris_Virgínica (FALSA, a menor cobertura é 2,7%)."
   ]
  },
  {
   "cell_type": "markdown",
   "metadata": {},
   "source": [
    "## 📍 **Questão 3**\n",
    "\n",
    "Quais os valores para as métricas abaixo para cada uma das classes A, B, C e D?\n",
    "\n",
    "|  | Precisão | Recall | F1Score | TVP | TFN | TFP | TVN |\n",
    "| -- | -- | -- | -- | -- | -- | -- | -- |\n",
    "| **A** | 0,59 | 0,59 | 0,58 | 10/17 | 07/17 | 07/105 | 98/105 |\n",
    "| **B** | 0,65 | 0,83 | 0,73 | 15/18 | 03/18 | 08/104 | 96/104 |\n",
    "| **C** | 0,77 | 0,67 | 0,71 | 20/30 | 10/30 | 06/92 | 86/92 | \n",
    "| **D** | 0,90 | 0,88 | 0,89 | 50/57 | 07/57 | 06/65 | 59/65 |"
   ]
  },
  {
   "cell_type": "markdown",
   "metadata": {},
   "source": [
    "## 📍 **Questão 4**\n",
    "\n",
    "![Risco de Credito - Árvore de Decisão](../helper/img/lista3questao4.png)\n",
    "\n",
    "> A implementação da árvore de decisão está disponível no repositório [DecisionTreeAnalysisAI](https://github.com/rm-learning/DecisionTreeAnalysisAI), especificamente na pasta `src`; arquivo `ai01_rc_DecisionTree.ipynb`."
   ]
  },
  {
   "cell_type": "markdown",
   "metadata": {},
   "source": [
    "## 📍 **Questão 5**\n",
    "\n",
    "![Risco de Credito](../helper/img/ID3_tree.png)\n",
    "\n",
    "> A implementação do algoritmo ID3 está disponível no repositório [DecisionTreeAnalysisAI](https://github.com/rm-learning/DecisionTreeAnalysisAI), especificamente na pasta `src`; arquivo `ai02_rc_ID3.ipynb`.\n",
    "\n",
    "Em função do conjunto de dados ser muito pequeno e estrito, a árvore de gerada é a mesma para todos os algoritmos: ID3, C4.5 e CART."
   ]
  },
  {
   "cell_type": "markdown",
   "metadata": {},
   "source": [
    "## 📍 **Questão 6**\n",
    "\n",
    "O algoritmo CART começa na raiz da árvore e efetua uma divisão, criando dois nós no próximo nível da árvore. Depois disso, descemos para o primeiro nível da árvore e repetimos o procedimento para os dois nós que foram criados, e assim por diante. Em cada etapa, escolhemos a divisão que produz a maior queda no erro de classificação, sendo que a árvore cresce alta e poda alguns dos seus ramos no final do processo.\n",
    "\n",
    "Além disso, o CART checa apenas a mlehor separação em cada nível sequencialmente sem considerar os níveis subjacentes e, por essa razão, não garante uma solução ótima, mas sim uma solução razoavelmente boa.\n",
    "\n",
    "A função custo do Cart é dada por `J(k,tk) = (mL/m) GL + (mR/m) GR`; em que GL/GR mede a impureza do subset esquerdo/direito(left/right), mR/mL é o número de instâncias do subset esquerdo/direito(left/right), k é a feature em questão, tk é o limiar(threshold) e m é o número de instâncias.\n",
    "\n",
    "As predições são feitas rapidamente, pois se checa apenas 1 feature por nó, ao passo que o treinamento se torna mais demorado para grandes data sets pois em cada nó é comparado n features para as m instâncias.\n",
    "\n",
    "> Fonte: [UFSC](https://geam.paginas.ufsc.br/files/2020/02/decision-tree-ensemble.pdf)\n"
   ]
  }
 ],
 "metadata": {
  "language_info": {
   "name": "python"
  },
  "orig_nbformat": 4
 },
 "nbformat": 4,
 "nbformat_minor": 2
}
